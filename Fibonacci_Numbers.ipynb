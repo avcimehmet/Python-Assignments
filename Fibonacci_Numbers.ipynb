{
 "cells": [
  {
   "cell_type": "code",
   "execution_count": null,
   "metadata": {},
   "outputs": [],
   "source": [
    "\"\"\"\n",
    "Task : Create a list consisting of Fibonacci numbers from 1 to 55 using control flow statements and range() function.\n",
    "\n",
    "The desired output is like this:\n",
    "\n",
    "fibonacci →  [1, 1, 2, 3, 5, 8, 13, 21, 34, 55]\n",
    "\"\"\"\n",
    "\"\"\"\n",
    "I created a programme which shows fibo numbers in dictionary with their key pairs.\n",
    "\"\"\"\n",
    "\n",
    "fibo_dict = {\"f_0\":0, \"f_1\":1}\n",
    "\n",
    "for i in range(100):\n",
    "  fibo_num = fibo_dict[f\"f_{i}\"] + fibo_dict[f\"f_{i+1}\"]\n",
    "  fibo_code = f\"f_{i+2}\"\n",
    "  if fibo_num <= 55:\n",
    "    fibo_dict.update({f\"{fibo_code}\" : fibo_num})\n",
    "  else:\n",
    "    break\n",
    "\n",
    "print(fibo_dict)\n",
    "print(\"fibo list----> \" + f\"{list(fibo_dict.values())}\")\n"
   ]
  }
 ],
 "metadata": {
  "language_info": {
   "name": "python"
  },
  "orig_nbformat": 4
 },
 "nbformat": 4,
 "nbformat_minor": 2
}
