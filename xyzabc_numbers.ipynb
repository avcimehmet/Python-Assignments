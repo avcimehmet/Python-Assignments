{
 "cells": [
  {
   "cell_type": "code",
   "execution_count": 2,
   "metadata": {},
   "outputs": [
    {
     "name": "stdout",
     "output_type": "stream",
     "text": [
      "xyz numbers:  160 280 100 260 200 140 240 180 120 220\n",
      "abc numbers:  130 260 140 270 150 280 160 290 170 180 190 200 210 220 100 230 110 240 120 250\n",
      "xyzabc numbers:  160 100 260 200 140 240 220 180 280 120\n",
      "There are 10 xyzabc numbers.\n"
     ]
    }
   ],
   "source": [
    "\"\"\"\n",
    "range 100-300,\n",
    "OUTPUT;\n",
    "- set of numbers divisible by 2, 4, 5; xyz numbers\n",
    "- set of numbers divisible by 2, 5; abc numbers\n",
    "- xyzabc numbers are both xyz and abc numbers\n",
    "- number of xyzabc numbers in range\n",
    "\"\"\"\n",
    "\n",
    "xyz = set()\n",
    "abc = set()\n",
    "for i in range(100, 300):\n",
    "  if i % 2 == 0 and i % 4 == 0 and i % 5 == 0:\n",
    "    xyz.add(i)\n",
    "for i in range(100, 300):\n",
    "  if i % 2 == 0 and i % 5 == 0:\n",
    "    abc.add(i)\n",
    "\n",
    "xyz_in_abc = xyz.intersection(abc)\n",
    "print(\"xyz numbers: \", *xyz)\n",
    "print(\"abc numbers: \", *abc)\n",
    "print(\"xyzabc numbers: \", *xyz_in_abc)\n",
    "print(f\"There are {len(xyz_in_abc)} xyzabc numbers.\")"
   ]
  },
  {
   "cell_type": "code",
   "execution_count": null,
   "metadata": {},
   "outputs": [],
   "source": []
  }
 ],
 "metadata": {
  "interpreter": {
   "hash": "5b405bc58615d83bfe94ec139c689c3811dc33eea9896eb200cc5c4fea3bc961"
  },
  "kernelspec": {
   "display_name": "Python 3.10.3 64-bit (windows store)",
   "language": "python",
   "name": "python3"
  },
  "language_info": {
   "codemirror_mode": {
    "name": "ipython",
    "version": 3
   },
   "file_extension": ".py",
   "mimetype": "text/x-python",
   "name": "python",
   "nbconvert_exporter": "python",
   "pygments_lexer": "ipython3",
   "version": "3.9.7"
  },
  "orig_nbformat": 4
 },
 "nbformat": 4,
 "nbformat_minor": 2
}
