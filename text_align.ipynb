text = (2 * "Clarusway, Clarusway, Clarusway,\n\t" + "\tClarusway, Clarusway, Clarusway")
print(text)
