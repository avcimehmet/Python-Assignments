{
 "cells": [
  {
   "cell_type": "code",
   "execution_count": null,
   "metadata": {},
   "outputs": [],
   "source": [
    "\"\"\"\"\n",
    "Define a function to take a word and return negative meaning.\n",
    "Given a word, return a new word where \"not \" has been added to the front. However, if the word already begins with \"not\", return the string unchanged.\n",
    "\n",
    "For example:\n",
    "\n",
    "Test\tResult\n",
    "print(not_string('sugar'))\n",
    "not sugar\n",
    "print(not_string('x'))\n",
    "not x\n",
    "print(not_string('not bad'))\n",
    "not bad\n",
    "\"\"\"\n",
    "\n",
    "def not_string(word):\n",
    "  new = word.split()\n",
    "  if \"not\" in new:\n",
    "    return word\n",
    "  else:\n",
    "    return \"not \" + word\n",
    "\n",
    "x = input(\"enter a word even if it is negative ;) \")\n",
    "not_string(x)"
   ]
  }
 ],
 "metadata": {
  "language_info": {
   "name": "python"
  },
  "orig_nbformat": 4
 },
 "nbformat": 4,
 "nbformat_minor": 2
}
