num_1 = float(input("Please enter the 1st number: "))
num_2 = float(input("\tPlease enter the 2nd number: "))
num_3 = float(input("\t\tPlease enter the 3rd number: "))

multiplication = (num_1 * num_2 * num_3)

print ("\nThe multiplication of \"{0}\", \"{1}\" and \"{2}\" is: {3}\n".format(num_1, num_2, num_3, multiplication))

print ("{0}*{1}*{2} = {3}\n".format(num_1, num_2, num_3, multiplication))

print(" {0}\n {1}\n*{2}\n-----\n {3}".format(num_1, num_2, num_3, multiplication))
