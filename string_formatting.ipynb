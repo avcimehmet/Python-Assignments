var1 = "sleep"
var2 = "eat"
var3 = "better"
var4 = "life"
text = f"The less you {var1} and {var2}, the {var3} your {var4} will be."
print(text)

