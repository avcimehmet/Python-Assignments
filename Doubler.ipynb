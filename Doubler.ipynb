{
 "cells": [
  {
   "cell_type": "code",
   "execution_count": null,
   "metadata": {},
   "outputs": [],
   "source": [
    "\"\"\"\n",
    "Given two integer values, return their sum. If the two values are the same, then return double their sum.\n",
    "\"\"\"\n",
    "\n",
    "def sum_double(x, y):\n",
    "  if x == y:\n",
    "    return (x + y) * 2\n",
    "  else:\n",
    "    return x + y\n",
    "x = int(input(\"enter x pls: \"))\n",
    "y = int(input(\"enter y pls: \"))\n",
    "sum_double(x, y)"
   ]
  }
 ],
 "metadata": {
  "language_info": {
   "name": "python"
  },
  "orig_nbformat": 4
 },
 "nbformat": 4,
 "nbformat_minor": 2
}
