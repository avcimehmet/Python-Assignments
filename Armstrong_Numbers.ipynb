{
 "cells": [
  {
   "cell_type": "code",
   "execution_count": null,
   "metadata": {},
   "outputs": [
    {
     "ename": "",
     "evalue": "",
     "output_type": "error",
     "traceback": [
      "\u001b[1;31mRunning cells with 'Python 3.10.4 64-bit (windows store)' requires ipykernel package.\n",
      "Run the following command to install 'ipykernel' into the Python environment. \n",
      "Command: '\"C:/Users/Windows 10/AppData/Local/Microsoft/WindowsApps/python3.10.exe\" -m pip install ipykernel -U --user --force-reinstall'"
     ]
    }
   ],
   "source": [
    "\"\"\"\n",
    "Task:\n",
    "\n",
    "Find out if a given number is an \"Armstrong Number\".\n",
    "\n",
    "An n-digit number that is the sum of the nth powers of its digits is called an n-Armstrong number. Examples :\n",
    "371 = 33 + 73 + 13;\n",
    "9474 = 94 + 44 + 74 + 44;\n",
    "93084 = 95 + 35 + 05 + 85 + 45.\n",
    "\n",
    "Write a Python program that;\n",
    "takes a positive integer number from the user,\n",
    "checks the entered number if it is Armstrong,\n",
    "consider the negative, float and any entries other than numeric values then display a warning message to the user.\n",
    "\n",
    "Examples\n",
    "Sample inputs\tOutputs\n",
    "407\t407 is an Armstrong number\n",
    "5\t5 is an Armstrong number\n",
    " -153\t It is an invalid entry. Don't use non-numeric, float, or negative values!\n",
    " 153.87 or 153,87\t It is an invalid entry. Don't use non-numeric, float, or negative values!\n",
    " one\t It is an invalid entry. Don't use non-numeric, float, or negative values!\n",
    " 121\t 121 is not an Armstrong number\n",
    "\n",
    "Note that; this question is famous on the web, so do it yourself to get more benefits from it. By the way, do not use try - except block.\n",
    "\"\"\"\n",
    "\n",
    "number = input(\"Positive integer number Pls.: \")\n",
    "sum = 0\n",
    "if number.isdigit() == True:\n",
    "  for i in number:\n",
    "    sum += int(i) ** len(number)     \n",
    "  if sum == int(number):\n",
    "    print(f\"{number} is an Armstrong number.\")\n",
    "\n",
    "  else:\n",
    "    print(f\"{number} is NOT an Armstrong number.\") \n",
    "\n",
    "else:\n",
    "  print(\"It is an invalid entry. Don't use non-numeric, float, or negative values!\")\n"
   ]
  }
 ],
 "metadata": {
  "interpreter": {
   "hash": "5b405bc58615d83bfe94ec139c689c3811dc33eea9896eb200cc5c4fea3bc961"
  },
  "kernelspec": {
   "display_name": "Python 3.10.4 64-bit (windows store)",
   "language": "python",
   "name": "python3"
  },
  "language_info": {
   "name": "python",
   "version": "3.10.4"
  },
  "orig_nbformat": 4
 },
 "nbformat": 4,
 "nbformat_minor": 2
}
