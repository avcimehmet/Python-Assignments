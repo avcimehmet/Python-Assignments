{
 "cells": [
  {
   "cell_type": "code",
   "execution_count": null,
   "metadata": {},
   "outputs": [],
   "source": [
    "\"\"\"\n",
    "Task : Write a program that takes a number from the user and prints the result to check if it is a prime number.\n",
    "\n",
    "The examples of the desired output are as follows :\n",
    "\n",
    "input →  19 ⇉ output : 19 is a prime number\n",
    "input →  10 ⇉ output : 10 is not a prime number\n",
    "Note that ⚠ : This question is famous on the web, so to get more benefit from this assignment, try to complete this task on your own. \n",
    "\"\"\"\n",
    "\n",
    "num = int(input(\"Please enter a num: \"))\n",
    "if num == 1 or num != 2 and num != 3 and num != 5 and num != 7 and num != 11 and num != 13 and \\\n",
    "(num %2 == 0 or num %3 == 0 or num %5 == 0 or num %7 == 0 or num %11 == 0 or num %13 == 0) :\n",
    "  print(f\"{num} is not a prime number\")\n",
    "else:\n",
    "  print(f\"{num} is a prime number\") "
   ]
  }
 ],
 "metadata": {
  "language_info": {
   "name": "python"
  },
  "orig_nbformat": 4
 },
 "nbformat": 4,
 "nbformat_minor": 2
}
