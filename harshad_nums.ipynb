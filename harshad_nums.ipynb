{
 "cells": [
  {
   "cell_type": "code",
   "execution_count": null,
   "metadata": {},
   "outputs": [],
   "source": [
    "\"\"\"\n",
    "A number is said to be Harshad if it's exactly divisible by the sum of its digits.\n",
    "Create a function that determines whether a number is a Harshad or not.\n",
    "Examples\n",
    "is_harshad(75) ➞ False 7 + 5 = 12 75 is not exactly divisible by 12\n",
    "is_harshad(171) ➞ True 1 + 7 + 1 = 9 9 exactly divides 171\n",
    "is_harshad(481) ➞ True\n",
    "is_harshad(89) ➞ False \n",
    "is_harshad(516) ➞ True \n",
    "is_harshad(200) ➞ True\n",
    "\"\"\"\n",
    "def is_harshad():\n",
    "  num = input(\"num pls: \")\n",
    "  adder = 0\n",
    "  for i in range(len(num)):\n",
    "    adder += int(num[i])\n",
    "  if int(num) % adder == 0:\n",
    "    print(\"True\")\n",
    "  else:\n",
    "    print(\"False\")\n",
    "\n",
    "is_harshad()"
   ]
  }
 ],
 "metadata": {
  "language_info": {
   "name": "python"
  },
  "orig_nbformat": 4
 },
 "nbformat": 4,
 "nbformat_minor": 2
}
