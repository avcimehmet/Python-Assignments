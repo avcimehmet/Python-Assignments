coin_invested = input("please input invested amount: ")
daily_profit = 1.07
print(int(coin_invested) * daily_profit ** 7)
