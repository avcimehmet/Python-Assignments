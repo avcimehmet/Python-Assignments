"""
Task : Let's say; you left a message in the past that prints a password you need. To see the password you wrote, you need to enter your name and the program should recognize you.
Write a program that 

Takes the first name from the user and compares it to yours,
Then if the name the user entered is the same as yours, print out such as : "Hello, Joseph! The password is : W@12",
If the name the user entered is not the same as yours, print out such as : "Hello, Amina! See you later."
"""

user_id = "Joseph"
entry_id = str(input("Please enter user id: "))
if entry_id == user_id:
  print("Hello, Joseph! The password is : W@12")
else:
  print(f"Hello, {entry_id}! See you later.")