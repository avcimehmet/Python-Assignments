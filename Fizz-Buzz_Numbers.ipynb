{
 "cells": [
  {
   "cell_type": "code",
   "execution_count": null,
   "metadata": {},
   "outputs": [],
   "source": [
    "\"\"\"Task : Print the Fizz Buzz numbers.\n",
    "\n",
    "Fizz Buzz is a famous code challenge used in interviews to test basic programming skills.\n",
    "It's time to write your own implementation.\n",
    "Print numbers from 1 to 100 inclusively following these instructions:\n",
    "if a number is multiple of 3, print \"Fizz\" instead of this number,\n",
    "if a number is multiple of 5, print \"Buzz\" instead of this number,\n",
    "for numbers that are multiples of both 3 and 5, print \"FizzBuzz\",\n",
    "print the rest of the numbers unchanged.\n",
    "Output each value on a separate line.\"\"\"\n",
    "\n",
    "a = int(input(\"Please enter a range: \"))\n",
    "for i in range (1, a):\n",
    "  if i % 3 == 0 and i % 15 != 0:\n",
    "    print(\"Fizz\")\n",
    "  elif i % 5 == 0 and i % 15 != 0:\n",
    "    print(\"Buzz\")\n",
    "  elif i % 15 == 0:\n",
    "    print(\"FizzBuzz\")\n",
    "  else:\n",
    "    print(i)"
   ]
  }
 ],
 "metadata": {
  "language_info": {
   "name": "python"
  },
  "orig_nbformat": 4
 },
 "nbformat": 4,
 "nbformat_minor": 2
}
