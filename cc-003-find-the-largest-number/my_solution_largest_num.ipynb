{
 "cells": [
  {
   "cell_type": "code",
   "execution_count": 1,
   "metadata": {},
   "outputs": [
    {
     "name": "stdout",
     "output_type": "stream",
     "text": [
      "     Input                Output \n",
      "---------------        ------------ \n",
      "[1, 2, 3, 4, 5]        5\n"
     ]
    }
   ],
   "source": [
    "user_list = []\n",
    "for i in range(5):\n",
    "  num = int(input('Pls enter a num: '))\n",
    "  user_list.append(num)\n",
    "print('     Input', '               Output', '\\n---------------', '       ------------',\\\n",
    "      f'\\n{user_list}', f'       {sorted(user_list)[-1]}')"
   ]
  }
 ],
 "metadata": {
  "interpreter": {
   "hash": "aee8b7b246df8f9039afb4144a1f6fd8d2ca17a180786b69acc140d282b71a49"
  },
  "kernelspec": {
   "display_name": "Python 3.10.4 64-bit",
   "language": "python",
   "name": "python3"
  },
  "language_info": {
   "codemirror_mode": {
    "name": "ipython",
    "version": 3
   },
   "file_extension": ".py",
   "mimetype": "text/x-python",
   "name": "python",
   "nbconvert_exporter": "python",
   "pygments_lexer": "ipython3",
   "version": "3.10.4"
  },
  "orig_nbformat": 4
 },
 "nbformat": 4,
 "nbformat_minor": 2
}
