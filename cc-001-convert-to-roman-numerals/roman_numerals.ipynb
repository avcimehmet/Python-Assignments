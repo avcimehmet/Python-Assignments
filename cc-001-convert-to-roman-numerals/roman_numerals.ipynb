{
 "cells": [
  {
   "cell_type": "code",
   "execution_count": 3,
   "metadata": {},
   "outputs": [
    {
     "name": "stdout",
     "output_type": "stream",
     "text": [
      "Not Valid Input !!!\n",
      "Not Valid Input !!!\n",
      "Not Valid Input !!!\n",
      "The conversion of \"1234\" to Roman Numerals is \"MCCXXXIV\".\n",
      "\"Exiting the program... Good Bye\"\n"
     ]
    }
   ],
   "source": [
    "conv_dict = {\n",
    "    '0':'', '1':'I', '2':'II', '3':'III', '4':'IV', '5':'V', '6':'VI', '7':'VII', '8':'VIII', '9':'IX',\n",
    "    '10':'X', '20':'XX', '30':'XXX', '40':'XL', '50':'L', '60':'LX', '70':'LXX', '80':'LXXX', '90':'XC',\n",
    "    '100':'C', '200':'CC', '300':'CCC', '400':'CD', '500':'D', '600':'DC', '700':'DCC', '800':'DCCC', '900':'CM',\n",
    "    '1000':'M', '2000':'MM', '3000':'MMM'\n",
    "}\n",
    "\n",
    "def converter():\n",
    "    n = 0\n",
    "    roman_nr = []\n",
    "    exit = 0\n",
    "    while exit == False:\n",
    "        global entry\n",
    "        entry = input('###  This program converts decimal numbers to Roman Numerals ### \\\n",
    "\\n(To exit the program, please type \"exit\") Pls enter a number between 1 and 3999, inclusively : ')\n",
    "        if entry.lower() == 'exit':\n",
    "          print('\"Exiting the program... Good Bye\"')\n",
    "          break\n",
    "        try:\n",
    "            for i in range(1, len(entry)+1):\n",
    "                result = (int(entry[(-i)])*(10**n))\n",
    "                roman_nr.insert(0, conv_dict[str(result)])\n",
    "                n += 1 \n",
    "            output = ''.join(roman_nr)\n",
    "            print('The conversion of \"{}\" to Roman Numerals is \"{}\".'.format(entry, output))\n",
    "            exit = False\n",
    "        except (ValueError, KeyError):\n",
    "            print('Not Valid Input !!!')\n",
    "            roman_nr = []\n",
    "            n = 0\n",
    "            exit = False\n",
    "\n",
    "\n",
    "converter()"
   ]
  },
  {
   "cell_type": "code",
   "execution_count": null,
   "metadata": {},
   "outputs": [],
   "source": []
  }
 ],
 "metadata": {
  "interpreter": {
   "hash": "aee8b7b246df8f9039afb4144a1f6fd8d2ca17a180786b69acc140d282b71a49"
  },
  "kernelspec": {
   "display_name": "Python 3.10.4 64-bit",
   "language": "python",
   "name": "python3"
  },
  "language_info": {
   "codemirror_mode": {
    "name": "ipython",
    "version": 3
   },
   "file_extension": ".py",
   "mimetype": "text/x-python",
   "name": "python",
   "nbconvert_exporter": "python",
   "pygments_lexer": "ipython3",
   "version": "3.10.4"
  },
  "orig_nbformat": 4
 },
 "nbformat": 4,
 "nbformat_minor": 2
}
