{
 "cells": [
  {
   "cell_type": "code",
   "execution_count": 2,
   "metadata": {},
   "outputs": [
    {
     "name": "stdout",
     "output_type": "stream",
     "text": [
      "\n",
      "Roman numerals representation of decimal number \"1234\"\" is equal to MCCXXXIV\n",
      "\n",
      "Exiting the program... Good Bye\n"
     ]
    }
   ],
   "source": [
    "def convert(decimal_num):\n",
    "    roman = {1000: 'M', 900: 'CM', 500: 'D', 400: 'CD', 100: 'C', 90: 'XC',\n",
    "             50: 'L', 40: 'XL', 10: 'X', 9: 'IX', 5: 'V', 4: 'IV', 1: 'I'}\n",
    "    num_to_roman = ''\n",
    "    # loop the roman numerals, calculate for each symbol and add to the result\n",
    "    for i in roman.keys():\n",
    "        num_to_roman += roman[i] * (decimal_num // i)\n",
    "        decimal_num %= i\n",
    "    return num_to_roman\n",
    "\n",
    "# flag to show warning to the user, default is False.\n",
    "is_invalid = False\n",
    "\n",
    "# start endless loop to get user input continuously\n",
    "while True:\n",
    "    # info text to be shown to the user\n",
    "    info = \"\"\"\n",
    "###  This program converts decimal numbers to Roman Numerals ###\n",
    "(To exit the program, please type \"exit\")\n",
    "Please enter a number between 1 and 3999, inclusively : \"\"\"\n",
    "\n",
    "    # get the user input after showing info text.\n",
    "    # if is_invalid set to True then show additional warning to the user\n",
    "    # pass the input the alphanum variable after stripping white space characters\n",
    "    alphanum = input('\\nNot Valid Input !!!\\n'*is_invalid + info).strip()\n",
    "    # if the input is not decimal number\n",
    "    if not alphanum.isdecimal():\n",
    "        # then check, if it is the \"exit\" keyword\n",
    "        if alphanum.lower() == 'exit':\n",
    "            # if it is \"exit\", then say goodbye and terminate the program\n",
    "            print('\\nExiting the program... Good Bye')\n",
    "            break\n",
    "        # if it is a strint other than \"exit\"\n",
    "        else:\n",
    "            # then set to invalid flag to True to show warning and continue with next cycle\n",
    "            is_invalid = True\n",
    "            continue\n",
    "    # convert the given string to the integer\n",
    "    number = int(alphanum)\n",
    "    # if the number is between 1 and 3999, inclusively\n",
    "    if 0 < number < 4000:\n",
    "        # then convert to roman numerals and print out the user\n",
    "        print(\n",
    "            f'\\nRoman numerals representation of decimal number \"{alphanum}\"\" is equal to {convert(number)}')\n",
    "        # and set invalid flag to the False, it might be set the True in previous cycle\n",
    "        is_invalid = False\n",
    "    # if the number is out of bounds\n",
    "    else:\n",
    "        # then set to invalid flag to True to show warning\n",
    "        is_invalid = True"
   ]
  }
 ],
 "metadata": {
  "interpreter": {
   "hash": "aee8b7b246df8f9039afb4144a1f6fd8d2ca17a180786b69acc140d282b71a49"
  },
  "kernelspec": {
   "display_name": "Python 3.10.4 64-bit",
   "language": "python",
   "name": "python3"
  },
  "language_info": {
   "codemirror_mode": {
    "name": "ipython",
    "version": 3
   },
   "file_extension": ".py",
   "mimetype": "text/x-python",
   "name": "python",
   "nbconvert_exporter": "python",
   "pygments_lexer": "ipython3",
   "version": "3.10.4"
  },
  "orig_nbformat": 4
 },
 "nbformat": 4,
 "nbformat_minor": 2
}
