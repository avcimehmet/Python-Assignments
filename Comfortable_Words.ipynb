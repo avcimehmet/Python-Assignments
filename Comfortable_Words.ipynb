{
 "cells": [
  {
   "cell_type": "code",
   "execution_count": null,
   "metadata": {},
   "outputs": [],
   "source": [
    "\"\"\"\n",
    "A comfortable word is a word which you can type always alternating the hand you type with (assuming you type using a Q-keyboard and use of the ten-fingers standard).\n",
    "The word will always be a string consisting of only letters from a to z.\n",
    "Write a program which returns True if it's a comfortable word or False otherwise.\n",
    "\"\"\"\n",
    "\n",
    "word = str(input(\"Please enter a word: \"))\n",
    "left_l = (\"q w e r t y a s d f g z x c v b\")\n",
    "left_u = left_l.upper()\n",
    "lefthand_keys = (left_l.split() + left_u.split())\n",
    "\n",
    "x = 0\n",
    "for i in word:\n",
    "  if (i in lefthand_keys):\n",
    "    x += 1\n",
    "  else:\n",
    "    x += 2\n",
    "\n",
    "y = (x == len(word) or x == len(word)*2)\n",
    "if y == True:\n",
    "  print(f\"False!.. {word} is not a comfy word.\")\n",
    "else:\n",
    "  print(f\"True!.. '{word}' is a comfy word.\")"
   ]
  }
 ],
 "metadata": {
  "language_info": {
   "name": "python"
  },
  "orig_nbformat": 4
 },
 "nbformat": 4,
 "nbformat_minor": 2
}
