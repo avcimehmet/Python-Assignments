word = str(input("Please enter a word: "))
left_l = ("q w e r t y a s d f g z x c v b")
left_u = left_l.upper()
lefthand_keys = (left_l.split() + left_u.split())

x = 0
for i in word:
  if (i in lefthand_keys):
    x += 1
  else:
    x += 2

y = (x == len(word) or x == len(word)*2)
if y == True:
  print(f"False. {word} is not a comfy word.")
else:
  print(f"True. '{word}' is a comfy word.")
