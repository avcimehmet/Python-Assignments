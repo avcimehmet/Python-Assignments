{
 "cells": [
  {
   "cell_type": "code",
   "execution_count": null,
   "metadata": {},
   "outputs": [],
   "source": [
    "\"\"\"\n",
    "2520 is the smallest number that can be divided by each of the numbers\n",
    "from 1 to 10 without any remainder. What is the smallest positive number\n",
    "that is evenly divisible by all of the numbers from 1 to 20?\n",
    "\"\"\"\n",
    "x = 2520\n",
    "test_list = [2, 3, 4, 5, 7, 9, 11, 13, 16, 17, 19]\n",
    "while True:\n",
    "  x += 1\n",
    "  count = 0\n",
    "  for i in test_list:\n",
    "    if x % i != 0:\n",
    "      count += 1\n",
    "      if count > 0:\n",
    "        break\n",
    "  if count == 0:\n",
    "    print(x)\n",
    "    break "
   ]
  }
 ],
 "metadata": {
  "language_info": {
   "name": "python"
  },
  "orig_nbformat": 4
 },
 "nbformat": 4,
 "nbformat_minor": 2
}
