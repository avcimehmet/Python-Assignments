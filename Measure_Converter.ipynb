#TASK-1
temp_celcius = float(input("Enter the temperature in Degree Selsius: "))
temp_fahrenheit = float(temp_celcius * 1.8 + 32)
print("{} Degrees Celcius is equal to {} Degrees Fahrenheit.".format(temp_celcius, temp_fahrenheit))

#TASK-2
distance_km = float(input("Enter the distance in kilometers: "))
distance_mi = float(distance_km * 0.621371192)
print("'{}' Kilometers is equal to '{}' Statue Miles.".format(distance_km, distance_mi))

