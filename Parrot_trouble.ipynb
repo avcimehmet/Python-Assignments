{
 "cells": [
  {
   "cell_type": "code",
   "execution_count": null,
   "metadata": {},
   "outputs": [],
   "source": [
    "\"\"\"\n",
    "We have a loud talking parrot. We are in trouble if the parrot is talking and the hour is before 6 or after 21.\n",
    "Define a function taking two parameters (talking and hour) to return True if we are in trouble. The argument to  talking parameter can only be True or False whether it is talking or not. The argument to hour parameter should be the current hour time in the range of 0 to 23.\n",
    "For example:\n",
    "\n",
    "Test\tResult\n",
    "print(parrot_trouble(True, 5))\n",
    "True\n",
    "print(parrot_trouble(True, 8))\n",
    "False\n",
    "print(parrot_trouble(False, 22))\n",
    "False\n",
    "\"\"\"\n",
    "\n",
    "def parrot_trouble(talking, hour):\n",
    "    if talking == True and (hour < 6 or hour > 21):\n",
    "      return \"True! It's a trouble.\"\n",
    "    else:\n",
    "      return \"False! No problem.\"\n",
    "\n",
    "x = bool(input(\"Is the parrot talking? (True or False): \"))\n",
    "y = int(input(\"What time is it?: \"))\n",
    "parrot_trouble(x, y)"
   ]
  }
 ],
 "metadata": {
  "language_info": {
   "name": "python"
  },
  "orig_nbformat": 4
 },
 "nbformat": 4,
 "nbformat_minor": 2
}
